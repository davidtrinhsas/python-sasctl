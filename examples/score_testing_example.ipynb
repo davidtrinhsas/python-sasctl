{
 "cells": [
  {
   "cell_type": "markdown",
   "metadata": {},
   "source": [
    "***\n",
    "# Implementing Score Testing\n",
    "\n",
    "_**Note:** Before running this example, you will need to run an example that creates a model on a Viya server and copy the UUID. This will be used as a create_score_definition function parameter._"
   ]
  },
  {
   "cell_type": "code",
   "execution_count": null,
   "metadata": {},
   "outputs": [],
   "source": [
    "import requests\n",
    "import sys\n",
    "\n",
    "from sasctl._services.score_definitions import ScoreDefinitions as sd # Importing ScoreDefinitions service\n",
    "from sasctl._services.score_execution import ScoreExecution as se # Importing ScoreExecution service"
   ]
  },
  {
   "cell_type": "code",
   "execution_count": null,
   "metadata": {},
   "outputs": [],
   "source": [
    "# Creating the score definition for this model using the model UUID generated two steps before\n",
    "score_definition = sd.create_score_definition(\n",
    "    \"example_score_def_name\", # Name of the score_definition, which can be any string\n",
    "    \"model_id\",  # Use Model UUID generated two steps before\n",
    "    \"table_name\", # Table name for input data, which must exist in host server or it will throw an HTTP error and prompt you to upload a data file\n",
    "    # True,  # Uncomment 'True' if your Viya version is compatible with CAS Gateway\n",
    ")"
   ]
  },
  {
   "cell_type": "code",
   "execution_count": null,
   "metadata": {},
   "outputs": [],
   "source": [
    "# Executing the score definition\n",
    "score_execution = se.create_score_execution(\n",
    "    score_definition.get(\"id\") # Score definition id created in the previous cell\n",
    ")\n",
    "\n",
    "# Prints score_execution_id\n",
    "print(score_execution)"
   ]
  },
  {
   "cell_type": "markdown",
   "metadata": {},
   "source": [
    "We can view our scored model information within Model Manager under Projects -> Choose your model -> Scoring. \n",
    "***"
   ]
  }
 ],
 "metadata": {
  "language_info": {
   "name": "python"
  }
 },
 "nbformat": 4,
 "nbformat_minor": 2
}
