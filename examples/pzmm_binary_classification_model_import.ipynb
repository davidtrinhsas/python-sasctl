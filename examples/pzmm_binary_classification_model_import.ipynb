{
 "cells": [
  {
   "cell_type": "markdown",
   "metadata": {
    "Collapsed": "false"
   },
   "source": [
    "Copyright © 2023, SAS Institute Inc., Cary, NC, USA.  All Rights Reserved.\n",
    "SPDX-License-Identifier: Apache-2.0"
   ]
  },
  {
   "cell_type": "markdown",
   "metadata": {
    "Collapsed": "false"
   },
   "source": [
    "# HMEQ Dataset : Build and Import Trained Binary Classification Models into SAS Model Manager\n",
    "\n",
    "This notebook provides an example of how to build and train a simple Python model and then import the model into SAS Model Manager (on either SAS Viya 3.5 or SAS Viya 4) using the HMEQ data set. Lines of code that must be modified by the user, such as directory paths or the host server are noted with the comment \"_Changes required by user._\".\n",
    "\n",
    "_**Note:** If you download only this notebook and not the rest of the repository, you must also download the hmeq.csv file from the data folder in the examples directory. These files are used when executing this notebook example._\n",
    "\n",
    "Here are the steps shown in this notebook:\n",
    "\n",
    "1. Import, review, and preprocess data for model training.\n",
    "2. Build, train, and assess a scikit-learn decision tree, random forest, and gradient boosting model.\n",
    "3. Serialize the models into separate pickle files.\n",
    "4. Write the metadata JSON files needed for importing into SAS Model Manager as well as optional files for fit statistics and ROC/Lift charts.\n",
    "4. Write a score code Python file for model scoring.\n",
    "5. Zip the pickle, JSON, and score code files into an archive file.\n",
    "6. Import the ZIP archive file to SAS Model Manager via the Session object and relevant function call."
   ]
  },
  {
   "cell_type": "markdown",
   "metadata": {
    "Collapsed": "false"
   },
   "source": [
    "### Python Package Imports"
   ]
  },
  {
   "cell_type": "code",
   "execution_count": 116,
   "metadata": {
    "Collapsed": "false"
   },
   "outputs": [],
   "source": [
    "# Standard Library\n",
    "from pathlib import Path\n",
    "import warnings\n",
    "\n",
    "# Third Party\n",
    "import matplotlib.pyplot as plt\n",
    "import numpy as np\n",
    "import pandas as pd\n",
    "from sklearn.ensemble import GradientBoostingClassifier, RandomForestClassifier\n",
    "from sklearn.metrics import classification_report, confusion_matrix\n",
    "from sklearn.model_selection import train_test_split\n",
    "from sklearn.tree import DecisionTreeClassifier\n",
    "\n",
    "# Application Specific\n",
    "import sasctl.pzmm as pzmm\n",
    "from sasctl import Session"
   ]
  },
  {
   "cell_type": "code",
   "execution_count": 117,
   "metadata": {
    "Collapsed": "false"
   },
   "outputs": [],
   "source": [
    "# Global Package Options\n",
    "pd.options.mode.chained_assignment = None  # default=\"warn\"\n",
    "plt.rc(\"font\", size=14)\n",
    "# Ignore warnings from pandas about SWAT using a feature that will be depreciated soon\n",
    "warnings.simplefilter(action=\"ignore\", category=FutureWarning)"
   ]
  },
  {
   "cell_type": "markdown",
   "metadata": {
    "Collapsed": "false"
   },
   "source": [
    "### Import and Review Data Set"
   ]
  },
  {
   "cell_type": "code",
   "execution_count": 118,
   "metadata": {
    "Collapsed": "false"
   },
   "outputs": [
    {
     "data": {
      "text/plain": [
       "(5960, 13)"
      ]
     },
     "execution_count": 118,
     "metadata": {},
     "output_type": "execute_result"
    }
   ],
   "source": [
    "hmeq_data = pd.read_csv(\"data/hmeq.csv\", sep= \",\")\n",
    "hmeq_data.shape"
   ]
  },
  {
   "cell_type": "code",
   "execution_count": 119,
   "metadata": {
    "Collapsed": "false"
   },
   "outputs": [
    {
     "data": {
      "text/html": [
       "<div>\n",
       "<style scoped>\n",
       "    .dataframe tbody tr th:only-of-type {\n",
       "        vertical-align: middle;\n",
       "    }\n",
       "\n",
       "    .dataframe tbody tr th {\n",
       "        vertical-align: top;\n",
       "    }\n",
       "\n",
       "    .dataframe thead th {\n",
       "        text-align: right;\n",
       "    }\n",
       "</style>\n",
       "<table border=\"1\" class=\"dataframe\">\n",
       "  <thead>\n",
       "    <tr style=\"text-align: right;\">\n",
       "      <th></th>\n",
       "      <th>BAD</th>\n",
       "      <th>LOAN</th>\n",
       "      <th>MORTDUE</th>\n",
       "      <th>VALUE</th>\n",
       "      <th>REASON</th>\n",
       "      <th>JOB</th>\n",
       "      <th>YOJ</th>\n",
       "      <th>DEROG</th>\n",
       "      <th>DELINQ</th>\n",
       "      <th>CLAGE</th>\n",
       "      <th>NINQ</th>\n",
       "      <th>CLNO</th>\n",
       "      <th>DEBTINC</th>\n",
       "    </tr>\n",
       "  </thead>\n",
       "  <tbody>\n",
       "    <tr>\n",
       "      <th>0</th>\n",
       "      <td>0</td>\n",
       "      <td>26800</td>\n",
       "      <td>46236.0</td>\n",
       "      <td>62711.0</td>\n",
       "      <td>DebtCon</td>\n",
       "      <td>Office</td>\n",
       "      <td>17.0</td>\n",
       "      <td>0.0</td>\n",
       "      <td>0.0</td>\n",
       "      <td>175.075058</td>\n",
       "      <td>1.0</td>\n",
       "      <td>22.0</td>\n",
       "      <td>33.059934</td>\n",
       "    </tr>\n",
       "    <tr>\n",
       "      <th>1</th>\n",
       "      <td>0</td>\n",
       "      <td>26900</td>\n",
       "      <td>74982.0</td>\n",
       "      <td>126972.0</td>\n",
       "      <td>DebtCon</td>\n",
       "      <td>Office</td>\n",
       "      <td>0.0</td>\n",
       "      <td>0.0</td>\n",
       "      <td>0.0</td>\n",
       "      <td>315.818911</td>\n",
       "      <td>0.0</td>\n",
       "      <td>23.0</td>\n",
       "      <td>38.325990</td>\n",
       "    </tr>\n",
       "    <tr>\n",
       "      <th>2</th>\n",
       "      <td>0</td>\n",
       "      <td>26900</td>\n",
       "      <td>67144.0</td>\n",
       "      <td>92923.0</td>\n",
       "      <td>DebtCon</td>\n",
       "      <td>Other</td>\n",
       "      <td>16.0</td>\n",
       "      <td>0.0</td>\n",
       "      <td>0.0</td>\n",
       "      <td>89.112173</td>\n",
       "      <td>1.0</td>\n",
       "      <td>17.0</td>\n",
       "      <td>32.791478</td>\n",
       "    </tr>\n",
       "    <tr>\n",
       "      <th>3</th>\n",
       "      <td>0</td>\n",
       "      <td>26900</td>\n",
       "      <td>45763.0</td>\n",
       "      <td>73797.0</td>\n",
       "      <td>DebtCon</td>\n",
       "      <td>Other</td>\n",
       "      <td>23.0</td>\n",
       "      <td>NaN</td>\n",
       "      <td>0.0</td>\n",
       "      <td>291.591681</td>\n",
       "      <td>1.0</td>\n",
       "      <td>29.0</td>\n",
       "      <td>39.370858</td>\n",
       "    </tr>\n",
       "    <tr>\n",
       "      <th>4</th>\n",
       "      <td>0</td>\n",
       "      <td>27000</td>\n",
       "      <td>144901.0</td>\n",
       "      <td>178093.0</td>\n",
       "      <td>DebtCon</td>\n",
       "      <td>ProfExe</td>\n",
       "      <td>7.0</td>\n",
       "      <td>0.0</td>\n",
       "      <td>0.0</td>\n",
       "      <td>331.113972</td>\n",
       "      <td>0.0</td>\n",
       "      <td>34.0</td>\n",
       "      <td>40.566552</td>\n",
       "    </tr>\n",
       "  </tbody>\n",
       "</table>\n",
       "</div>"
      ],
      "text/plain": [
       "   BAD   LOAN   MORTDUE     VALUE   REASON      JOB   YOJ  DEROG  DELINQ  \\\n",
       "0    0  26800   46236.0   62711.0  DebtCon   Office  17.0    0.0     0.0   \n",
       "1    0  26900   74982.0  126972.0  DebtCon   Office   0.0    0.0     0.0   \n",
       "2    0  26900   67144.0   92923.0  DebtCon    Other  16.0    0.0     0.0   \n",
       "3    0  26900   45763.0   73797.0  DebtCon    Other  23.0    NaN     0.0   \n",
       "4    0  27000  144901.0  178093.0  DebtCon  ProfExe   7.0    0.0     0.0   \n",
       "\n",
       "        CLAGE  NINQ  CLNO    DEBTINC  \n",
       "0  175.075058   1.0  22.0  33.059934  \n",
       "1  315.818911   0.0  23.0  38.325990  \n",
       "2   89.112173   1.0  17.0  32.791478  \n",
       "3  291.591681   1.0  29.0  39.370858  \n",
       "4  331.113972   0.0  34.0  40.566552  "
      ]
     },
     "execution_count": 119,
     "metadata": {},
     "output_type": "execute_result"
    }
   ],
   "source": [
    "hmeq_data.head()"
   ]
  },
  {
   "cell_type": "code",
   "execution_count": 120,
   "metadata": {
    "Collapsed": "false"
   },
   "outputs": [
    {
     "data": {
      "image/png": "[encoded data removed]",
      "text/plain": [
       "<Figure size 1500x1500 with 16 Axes>"
      ]
     },
     "metadata": {},
     "output_type": "display_data"
    }
   ],
   "source": [
    "hmeq_data.hist(figsize=(15,15), layout=(4, 4));"
   ]
  },
  {
   "cell_type": "code",
   "execution_count": 121,
   "metadata": {
    "Collapsed": "false"
   },
   "outputs": [
    {
     "data": {
      "text/plain": [
       "Index(['BAD', 'LOAN', 'MORTDUE', 'VALUE', 'REASON', 'JOB', 'YOJ', 'DEROG',\n",
       "       'DELINQ', 'CLAGE', 'NINQ', 'CLNO', 'DEBTINC'],\n",
       "      dtype='object')"
      ]
     },
     "execution_count": 121,
     "metadata": {},
     "output_type": "execute_result"
    }
   ],
   "source": [
    "hmeq_data.columns"
   ]
  },
  {
   "cell_type": "markdown",
   "metadata": {
    "Collapsed": "false"
   },
   "source": [
    "### Preprocess Data"
   ]
  },
  {
   "cell_type": "code",
   "execution_count": 122,
   "metadata": {
    "Collapsed": "false"
   },
   "outputs": [],
   "source": [
    "predictor_columns = [\"LOAN\", \"MORTDUE\", \"VALUE\", \"YOJ\", \"DEROG\", \"DELINQ\", \"CLAGE\", \"NINQ\", \"CLNO\", \"DEBTINC\"]\n",
    "\n",
    "target_column = \"BAD\"\n",
    "x = hmeq_data[predictor_columns]\n",
    "y = hmeq_data[target_column]\n",
    "\n",
    "x_train, x_test, y_train, y_test = train_test_split(x, y, test_size=0.3, random_state=42)"
   ]
  },
  {
   "cell_type": "code",
   "execution_count": 123,
   "metadata": {
    "Collapsed": "false"
   },
   "outputs": [],
   "source": [
    "# For missing values, impute the data set's mean value\n",
    "x_test.fillna(x_test.mean(), inplace=True)\n",
    "x_train.fillna(x_train.mean(), inplace=True)"
   ]
  },
  {
   "cell_type": "markdown",
   "metadata": {
    "Collapsed": "false"
   },
   "source": [
    "### Create, Train, and Assess Model"
   ]
  },
  {
   "cell_type": "code",
   "execution_count": 124,
   "metadata": {
    "Collapsed": "false"
   },
   "outputs": [],
   "source": [
    "dtc = DecisionTreeClassifier(max_depth=7, min_samples_split=2, min_samples_leaf=2, max_leaf_nodes=500)\n",
    "dtc = dtc.fit(x_train, y_train)\n",
    "\n",
    "rfc = RandomForestClassifier(n_estimators=120, max_depth=9, max_leaf_nodes=850, min_samples_split=5, min_samples_leaf=4)\n",
    "rfc = rfc.fit(x_train, y_train)\n",
    "\n",
    "gbc = GradientBoostingClassifier(learning_rate=0.1, n_estimators=600, max_depth=4, min_samples_leaf=1, min_samples_split=2, max_leaf_nodes=500)\n",
    "gbc = gbc.fit(x_train, y_train)"
   ]
  },
  {
   "cell_type": "code",
   "execution_count": 125,
   "metadata": {
    "Collapsed": "false"
   },
   "outputs": [],
   "source": [
    "# Calculate the importance of a predictor \n",
    "def sort_feature_importance(model, data):\n",
    "    features = {}\n",
    "    for importance, name in sorted(zip(model.feature_importances_, data.columns), reverse=True):\n",
    "        features[name] = str(np.round(importance*100, 2)) + \"%\"\n",
    "    return features"
   ]
  },
  {
   "cell_type": "code",
   "execution_count": 126,
   "metadata": {
    "Collapsed": "false"
   },
   "outputs": [
    {
     "data": {
      "text/html": [
       "<div>\n",
       "<style scoped>\n",
       "    .dataframe tbody tr th:only-of-type {\n",
       "        vertical-align: middle;\n",
       "    }\n",
       "\n",
       "    .dataframe tbody tr th {\n",
       "        vertical-align: top;\n",
       "    }\n",
       "\n",
       "    .dataframe thead th {\n",
       "        text-align: right;\n",
       "    }\n",
       "</style>\n",
       "<table border=\"1\" class=\"dataframe\">\n",
       "  <thead>\n",
       "    <tr style=\"text-align: right;\">\n",
       "      <th></th>\n",
       "      <th>DecisionTree</th>\n",
       "      <th>RandomForest</th>\n",
       "      <th>GradientBoosting</th>\n",
       "    </tr>\n",
       "  </thead>\n",
       "  <tbody>\n",
       "    <tr>\n",
       "      <th>DEBTINC</th>\n",
       "      <td>58.35%</td>\n",
       "      <td>35.36%</td>\n",
       "      <td>39.53%</td>\n",
       "    </tr>\n",
       "    <tr>\n",
       "      <th>DELINQ</th>\n",
       "      <td>18.57%</td>\n",
       "      <td>15.16%</td>\n",
       "      <td>12.25%</td>\n",
       "    </tr>\n",
       "    <tr>\n",
       "      <th>CLAGE</th>\n",
       "      <td>8.07%</td>\n",
       "      <td>9.49%</td>\n",
       "      <td>10.39%</td>\n",
       "    </tr>\n",
       "    <tr>\n",
       "      <th>DEROG</th>\n",
       "      <td>4.86%</td>\n",
       "      <td>9.28%</td>\n",
       "      <td>6.28%</td>\n",
       "    </tr>\n",
       "    <tr>\n",
       "      <th>VALUE</th>\n",
       "      <td>3.19%</td>\n",
       "      <td>5.75%</td>\n",
       "      <td>7.38%</td>\n",
       "    </tr>\n",
       "    <tr>\n",
       "      <th>YOJ</th>\n",
       "      <td>2.7%</td>\n",
       "      <td>3.59%</td>\n",
       "      <td>3.77%</td>\n",
       "    </tr>\n",
       "    <tr>\n",
       "      <th>MORTDUE</th>\n",
       "      <td>2.0%</td>\n",
       "      <td>5.17%</td>\n",
       "      <td>6.4%</td>\n",
       "    </tr>\n",
       "    <tr>\n",
       "      <th>CLNO</th>\n",
       "      <td>1.2%</td>\n",
       "      <td>5.52%</td>\n",
       "      <td>5.9%</td>\n",
       "    </tr>\n",
       "    <tr>\n",
       "      <th>NINQ</th>\n",
       "      <td>0.88%</td>\n",
       "      <td>3.93%</td>\n",
       "      <td>2.79%</td>\n",
       "    </tr>\n",
       "    <tr>\n",
       "      <th>LOAN</th>\n",
       "      <td>0.17%</td>\n",
       "      <td>6.74%</td>\n",
       "      <td>5.32%</td>\n",
       "    </tr>\n",
       "  </tbody>\n",
       "</table>\n",
       "</div>"
      ],
      "text/plain": [
       "        DecisionTree RandomForest GradientBoosting\n",
       "DEBTINC       58.35%       35.36%           39.53%\n",
       "DELINQ        18.57%       15.16%           12.25%\n",
       "CLAGE          8.07%        9.49%           10.39%\n",
       "DEROG          4.86%        9.28%            6.28%\n",
       "VALUE          3.19%        5.75%            7.38%\n",
       "YOJ             2.7%        3.59%            3.77%\n",
       "MORTDUE         2.0%        5.17%             6.4%\n",
       "CLNO            1.2%        5.52%             5.9%\n",
       "NINQ           0.88%        3.93%            2.79%\n",
       "LOAN           0.17%        6.74%            5.32%"
      ]
     },
     "execution_count": 126,
     "metadata": {},
     "output_type": "execute_result"
    }
   ],
   "source": [
    "importances = pd.DataFrame.from_dict(sort_feature_importance(dtc, x_train), orient=\"index\").rename(columns={0: \"DecisionTree\"})\n",
    "importances[\"RandomForest\"] = pd.DataFrame.from_dict(sort_feature_importance(rfc, x_train), orient=\"index\")\n",
    "importances[\"GradientBoosting\"] = pd.DataFrame.from_dict(sort_feature_importance(gbc, x_train), orient=\"index\")\n",
    "importances"
   ]
  },
  {
   "cell_type": "code",
   "execution_count": 127,
   "metadata": {
    "Collapsed": "false"
   },
   "outputs": [
    {
     "name": "stdout",
     "output_type": "stream",
     "text": [
      "[[1428   13]\n",
      " [ 279   68]]\n",
      "              precision    recall  f1-score   support\n",
      "\n",
      "           0       0.84      0.99      0.91      1441\n",
      "           1       0.84      0.20      0.32       347\n",
      "\n",
      "    accuracy                           0.84      1788\n",
      "   macro avg       0.84      0.59      0.61      1788\n",
      "weighted avg       0.84      0.84      0.79      1788\n",
      "\n",
      "Decision Tree Model Accuracy = 83.67%\n"
     ]
    }
   ],
   "source": [
    "y_dtc_predict = dtc.predict(x_test)\n",
    "y_dtc_proba = dtc.predict_proba(x_test)\n",
    "print(confusion_matrix(y_test, y_dtc_predict))\n",
    "print(classification_report(y_test, y_dtc_predict))\n",
    "print(\"Decision Tree Model Accuracy = \" + str(np.round(dtc.score(x_test, y_test)*100,2)) + \"%\")"
   ]
  },
  {
   "cell_type": "code",
   "execution_count": 128,
   "metadata": {
    "Collapsed": "false"
   },
   "outputs": [
    {
     "name": "stdout",
     "output_type": "stream",
     "text": [
      "[[1439    2]\n",
      " [ 258   89]]\n",
      "              precision    recall  f1-score   support\n",
      "\n",
      "           0       0.85      1.00      0.92      1441\n",
      "           1       0.98      0.26      0.41       347\n",
      "\n",
      "    accuracy                           0.85      1788\n",
      "   macro avg       0.91      0.63      0.66      1788\n",
      "weighted avg       0.87      0.85      0.82      1788\n",
      "\n",
      "Random Forest Model Accuracy = 85.46%\n"
     ]
    }
   ],
   "source": [
    "y_rfc_predict = rfc.predict(x_test)\n",
    "y_rfc_proba = rfc.predict_proba(x_test)\n",
    "print(confusion_matrix(y_test, y_rfc_predict))\n",
    "print(classification_report(y_test, y_rfc_predict))\n",
    "print(\"Random Forest Model Accuracy = \" + str(np.round(rfc.score(x_test, y_test)*100,2)) + \"%\")"
   ]
  },
  {
   "cell_type": "code",
   "execution_count": 129,
   "metadata": {},
   "outputs": [
    {
     "name": "stdout",
     "output_type": "stream",
     "text": [
      "[[1436    5]\n",
      " [ 202  145]]\n",
      "              precision    recall  f1-score   support\n",
      "\n",
      "           0       0.88      1.00      0.93      1441\n",
      "           1       0.97      0.42      0.58       347\n",
      "\n",
      "    accuracy                           0.88      1788\n",
      "   macro avg       0.92      0.71      0.76      1788\n",
      "weighted avg       0.89      0.88      0.86      1788\n",
      "\n",
      "Gradient Boosting Model Accuracy = 88.42%\n"
     ]
    }
   ],
   "source": [
    "y_gbc_predict = gbc.predict(x_test)\n",
    "y_gbc_proba = gbc.predict_proba(x_test)\n",
    "print(confusion_matrix(y_test, y_gbc_predict))\n",
    "print(classification_report(y_test, y_gbc_predict))\n",
    "print(\"Gradient Boosting Model Accuracy = \" + str(np.round(gbc.score(x_test, y_test)*100,2)) + \"%\")"
   ]
  },
  {
   "cell_type": "markdown",
   "metadata": {
    "Collapsed": "false"
   },
   "source": [
    "### Register Model in SAS Model Manager with pzmm"
   ]
  },
  {
   "cell_type": "code",
   "execution_count": 130,
   "metadata": {
    "Collapsed": "false"
   },
   "outputs": [
    {
     "name": "stdout",
     "output_type": "stream",
     "text": [
      "Model DecisionTreeClassifier was successfully pickled and saved to c:\\Users\\sapotl\\OneDrive - SAS\\Desktop\\sasctlofficial\\python-sasctl\\examples\\data\\hmeqModels\\DecisionTreeClassifier\\DecisionTreeClassifier.pickle.\n",
      "Model RandomForest was successfully pickled and saved to c:\\Users\\sapotl\\OneDrive - SAS\\Desktop\\sasctlofficial\\python-sasctl\\examples\\data\\hmeqModels\\RandomForest\\RandomForest.pickle.\n",
      "Model GradientBoosting was successfully pickled and saved to c:\\Users\\sapotl\\OneDrive - SAS\\Desktop\\sasctlofficial\\python-sasctl\\examples\\data\\hmeqModels\\GradientBoosting\\GradientBoosting.pickle.\n"
     ]
    }
   ],
   "source": [
    "# Model names within SAS Model Manager\n",
    "model_prefix = [\"DecisionTreeClassifier\", \"RandomForest\", \"GradientBoosting\"]\n",
    "# Directory location for the model files\n",
    "zip_folder = [Path.cwd() / \"data/hmeqModels/DecisionTreeClassifier/\",\n",
    "             Path.cwd() / \"data/hmeqModels/RandomForest/\",\n",
    "             Path.cwd() / \"data/hmeqModels/GradientBoosting\"] # Changes required by user\n",
    "model = [dtc, rfc, gbc]\n",
    "# Output variables expected in SAS Model Manager. If a classification value is expected to be output, it should be the first metric.\n",
    "score_metrics = [\"EM_CLASSIFICATION\", \"EM_EVENTPROBABILITY\"]\n",
    "\n",
    "# Serialize the models to a pickle format\n",
    "for (mod, prefix, path) in zip(model, model_prefix, zip_folder):\n",
    "    pzmm.PickleModel.pickle_trained_model(\n",
    "        model_prefix=prefix,\n",
    "        trained_model=mod,\n",
    "        pickle_path=path\n",
    "    )"
   ]
  },
  {
   "cell_type": "code",
   "execution_count": 131,
   "metadata": {
    "Collapsed": "false"
   },
   "outputs": [
    {
     "name": "stdout",
     "output_type": "stream",
     "text": [
      "inputVar.json was successfully written and saved to c:\\Users\\sapotl\\OneDrive - SAS\\Desktop\\sasctlofficial\\python-sasctl\\examples\\data\\hmeqModels\\DecisionTreeClassifier\\inputVar.json\n",
      "outputVar.json was successfully written and saved to c:\\Users\\sapotl\\OneDrive - SAS\\Desktop\\sasctlofficial\\python-sasctl\\examples\\data\\hmeqModels\\DecisionTreeClassifier\\outputVar.json\n",
      "ModelProperties.json was successfully written and saved to c:\\Users\\sapotl\\OneDrive - SAS\\Desktop\\sasctlofficial\\python-sasctl\\examples\\data\\hmeqModels\\DecisionTreeClassifier\\ModelProperties.json\n",
      "fileMetadata.json was successfully written and saved to c:\\Users\\sapotl\\OneDrive - SAS\\Desktop\\sasctlofficial\\python-sasctl\\examples\\data\\hmeqModels\\DecisionTreeClassifier\\fileMetadata.json\n",
      "inputVar.json was successfully written and saved to c:\\Users\\sapotl\\OneDrive - SAS\\Desktop\\sasctlofficial\\python-sasctl\\examples\\data\\hmeqModels\\RandomForest\\inputVar.json\n",
      "outputVar.json was successfully written and saved to c:\\Users\\sapotl\\OneDrive - SAS\\Desktop\\sasctlofficial\\python-sasctl\\examples\\data\\hmeqModels\\RandomForest\\outputVar.json\n",
      "ModelProperties.json was successfully written and saved to c:\\Users\\sapotl\\OneDrive - SAS\\Desktop\\sasctlofficial\\python-sasctl\\examples\\data\\hmeqModels\\RandomForest\\ModelProperties.json\n",
      "fileMetadata.json was successfully written and saved to c:\\Users\\sapotl\\OneDrive - SAS\\Desktop\\sasctlofficial\\python-sasctl\\examples\\data\\hmeqModels\\RandomForest\\fileMetadata.json\n",
      "inputVar.json was successfully written and saved to c:\\Users\\sapotl\\OneDrive - SAS\\Desktop\\sasctlofficial\\python-sasctl\\examples\\data\\hmeqModels\\GradientBoosting\\inputVar.json\n",
      "outputVar.json was successfully written and saved to c:\\Users\\sapotl\\OneDrive - SAS\\Desktop\\sasctlofficial\\python-sasctl\\examples\\data\\hmeqModels\\GradientBoosting\\outputVar.json\n",
      "ModelProperties.json was successfully written and saved to c:\\Users\\sapotl\\OneDrive - SAS\\Desktop\\sasctlofficial\\python-sasctl\\examples\\data\\hmeqModels\\GradientBoosting\\ModelProperties.json\n",
      "fileMetadata.json was successfully written and saved to c:\\Users\\sapotl\\OneDrive - SAS\\Desktop\\sasctlofficial\\python-sasctl\\examples\\data\\hmeqModels\\GradientBoosting\\fileMetadata.json\n"
     ]
    }
   ],
   "source": [
    "def write_json_files(data, predict, target, path, prefix):    \n",
    "    # Write input variable mapping to a json file\n",
    "    pzmm.JSONFiles.write_var_json(input_data=data[predict], is_input=True, json_path=path)\n",
    "    \n",
    "    # Set output variables and assign an event threshold, then write output variable mapping\n",
    "    output_var = pd.DataFrame(columns=score_metrics, data=[[\"A\", 0.5]]) # data argument includes example expected types for outputs\n",
    "    pzmm.JSONFiles.write_var_json(output_var, is_input=False, json_path=path)\n",
    "    \n",
    "    # Write model properties to a json file\n",
    "    pzmm.JSONFiles.write_model_properties_json(\n",
    "        model_name=prefix, \n",
    "        target_variable=target, # Target variable to make predictions about (BAD in this case)\n",
    "        target_values=[\"1\", \"0\"], # Possible values for the target variable (1 or 0 for binary classification of BAD)\n",
    "        json_path=path, \n",
    "        model_desc=f\"Description for the {prefix} model.\",\n",
    "        model_algorithm=\"\",\n",
    "        modeler=\"sasdemo\",\n",
    "    )\n",
    "    \n",
    "    # Write model metadata to a json file so that SAS Model Manager can properly identify all model files\n",
    "    pzmm.JSONFiles.write_file_metadata_json(model_prefix=prefix, json_path=path)\n",
    "\n",
    "for (prefix, path) in zip(model_prefix, zip_folder):\n",
    "    write_json_files(hmeq_data, predictor_columns, target_column, path, prefix)"
   ]
  },
  {
   "cell_type": "code",
   "execution_count": null,
   "metadata": {},
   "outputs": [],
   "source": []
  },
  {
   "cell_type": "code",
   "execution_count": 132,
   "metadata": {
    "Collapsed": "false"
   },
   "outputs": [
    {
     "name": "stdout",
     "output_type": "stream",
     "text": [
      "dmcas_fitstat.json was successfully written and saved to c:\\Users\\sapotl\\OneDrive - SAS\\Desktop\\sasctlofficial\\python-sasctl\\examples\\data\\hmeqModels\\DecisionTreeClassifier\\dmcas_fitstat.json\n",
      "dmcas_roc.json was successfully written and saved to c:\\Users\\sapotl\\OneDrive - SAS\\Desktop\\sasctlofficial\\python-sasctl\\examples\\data\\hmeqModels\\DecisionTreeClassifier\\dmcas_roc.json\n",
      "dmcas_lift.json was successfully written and saved to c:\\Users\\sapotl\\OneDrive - SAS\\Desktop\\sasctlofficial\\python-sasctl\\examples\\data\\hmeqModels\\DecisionTreeClassifier\\dmcas_lift.json\n",
      "dmcas_relativeimportance.json was successfully written and saved to c:\\Users\\sapotl\\OneDrive - SAS\\Desktop\\sasctlofficial\\python-sasctl\\examples\\data\\hmeqModels\\DecisionTreeClassifier\\dmcas_relativeimportance.json\n",
      "dmcas_misc.json was successfully written and saved to c:\\Users\\sapotl\\OneDrive - SAS\\Desktop\\sasctlofficial\\python-sasctl\\examples\\data\\hmeqModels\\DecisionTreeClassifier\\dmcas_misc.json\n",
      "dmcas_fitstat.json was successfully written and saved to c:\\Users\\sapotl\\OneDrive - SAS\\Desktop\\sasctlofficial\\python-sasctl\\examples\\data\\hmeqModels\\RandomForest\\dmcas_fitstat.json\n",
      "dmcas_roc.json was successfully written and saved to c:\\Users\\sapotl\\OneDrive - SAS\\Desktop\\sasctlofficial\\python-sasctl\\examples\\data\\hmeqModels\\RandomForest\\dmcas_roc.json\n",
      "dmcas_lift.json was successfully written and saved to c:\\Users\\sapotl\\OneDrive - SAS\\Desktop\\sasctlofficial\\python-sasctl\\examples\\data\\hmeqModels\\RandomForest\\dmcas_lift.json\n",
      "dmcas_relativeimportance.json was successfully written and saved to c:\\Users\\sapotl\\OneDrive - SAS\\Desktop\\sasctlofficial\\python-sasctl\\examples\\data\\hmeqModels\\RandomForest\\dmcas_relativeimportance.json\n",
      "dmcas_misc.json was successfully written and saved to c:\\Users\\sapotl\\OneDrive - SAS\\Desktop\\sasctlofficial\\python-sasctl\\examples\\data\\hmeqModels\\RandomForest\\dmcas_misc.json\n",
      "dmcas_fitstat.json was successfully written and saved to c:\\Users\\sapotl\\OneDrive - SAS\\Desktop\\sasctlofficial\\python-sasctl\\examples\\data\\hmeqModels\\GradientBoosting\\dmcas_fitstat.json\n",
      "dmcas_roc.json was successfully written and saved to c:\\Users\\sapotl\\OneDrive - SAS\\Desktop\\sasctlofficial\\python-sasctl\\examples\\data\\hmeqModels\\GradientBoosting\\dmcas_roc.json\n",
      "dmcas_lift.json was successfully written and saved to c:\\Users\\sapotl\\OneDrive - SAS\\Desktop\\sasctlofficial\\python-sasctl\\examples\\data\\hmeqModels\\GradientBoosting\\dmcas_lift.json\n",
      "dmcas_relativeimportance.json was successfully written and saved to c:\\Users\\sapotl\\OneDrive - SAS\\Desktop\\sasctlofficial\\python-sasctl\\examples\\data\\hmeqModels\\GradientBoosting\\dmcas_relativeimportance.json\n",
      "dmcas_misc.json was successfully written and saved to c:\\Users\\sapotl\\OneDrive - SAS\\Desktop\\sasctlofficial\\python-sasctl\\examples\\data\\hmeqModels\\GradientBoosting\\dmcas_misc.json\n"
     ]
    }
   ],
   "source": [
    "import getpass\n",
    "def write_model_stats(x_train, y_train, test_predict, test_proba, y_test, model, path, prefix):\n",
    "    # Calculate train predictions\n",
    "    train_predict = model.predict(x_train)\n",
    "    train_proba = model.predict_proba(x_train)\n",
    "    \n",
    "    # Assign data to lists of actual and predicted values\n",
    "    train_data = pd.concat([y_train.reset_index(drop=True), pd.Series(train_predict), pd.Series(data=train_proba[:,1])], axis=1)\n",
    "    test_data = pd.concat([y_test.reset_index(drop=True), pd.Series(test_predict), pd.Series(data=test_proba[:,1])], axis=1)\n",
    "    \n",
    "    # Calculate the model statistics, ROC chart, and Lift chart; then write to json files\n",
    "    pzmm.JSONFiles.calculate_model_statistics(\n",
    "        target_value=1, \n",
    "        prob_value=0.5, \n",
    "        train_data=train_data, \n",
    "        test_data=test_data, \n",
    "        json_path=path\n",
    "    )\n",
    "\n",
    "    full_training_data = pd.concat([y_train.reset_index(drop=True), x_train.reset_index(drop=True)], axis=1)\n",
    "\n",
    "    pzmm.JSONFiles.generate_model_card(\n",
    "        model_prefix=prefix,\n",
    "        model_files = path,\n",
    "        algorithm = str(type(model).__name__),\n",
    "        train_data = full_training_data,\n",
    "        train_predictions=train_predict,\n",
    "        target_type='classification',\n",
    "        target_value=1,\n",
    "        interval_vars=predictor_columns,\n",
    "        selection_statistic='_RASE_',\n",
    "    )\n",
    "        \n",
    "username = \"sasuser\"\n",
    "password = \"[REDACTED]\"\n",
    "host = \"base.ingress-nginx.wenbao-gc1-m1.modelmanager.sashq-d.openstack.sas.com\" # Changes required by user\n",
    "sess = Session(host, username, password, protocol=\"http\") # For TLS-enabled servers, change protocol value to \"https\"\n",
    "conn = sess.as_swat() # Connect to SWAT through the sasctl authenticated connection\n",
    "\n",
    "test_predict = [y_dtc_predict, y_rfc_predict, y_gbc_predict]\n",
    "test_proba = [y_dtc_proba, y_rfc_proba, y_gbc_proba]\n",
    "for (mod, pred, proba, path, prefix) in zip(model, test_predict, test_proba, zip_folder, model_prefix):\n",
    "    write_model_stats(x_train, y_train, pred, proba, y_test, mod, path, prefix)"
   ]
  },
  {
   "cell_type": "code",
   "execution_count": 133,
   "metadata": {
    "Collapsed": "false"
   },
   "outputs": [
    {
     "name": "stdout",
     "output_type": "stream",
     "text": [
      "Model score code was written successfully to c:\\Users\\sapotl\\OneDrive - SAS\\Desktop\\sasctlofficial\\python-sasctl\\examples\\data\\hmeqModels\\DecisionTreeClassifier\\score_DecisionTreeClassifier.py and uploaded to SAS Model Manager.\n",
      "All model files were zipped to c:\\Users\\sapotl\\OneDrive - SAS\\Desktop\\sasctlofficial\\python-sasctl\\examples\\data\\hmeqModels\\DecisionTreeClassifier.\n"
     ]
    },
    {
     "name": "stderr",
     "output_type": "stream",
     "text": [
      "c:\\Users\\sapotl\\AppData\\Local\\anaconda3\\Lib\\site-packages\\sasctl\\pzmm\\write_score_code.py:1500: UserWarning: Due to the ambiguity of the provided metrics and prediction return types, the score code assumes that a classification and the target event probability should be returned.\n",
      "  warn(\n"
     ]
    },
    {
     "name": "stdout",
     "output_type": "stream",
     "text": [
      "Model was successfully imported into SAS Model Manager as DecisionTreeClassifier with the following UUID: 81806d99-6070-4bd0-8207-646e42eb797e.\n",
      "Model score code was written successfully to c:\\Users\\sapotl\\OneDrive - SAS\\Desktop\\sasctlofficial\\python-sasctl\\examples\\data\\hmeqModels\\RandomForest\\score_RandomForest.py and uploaded to SAS Model Manager.\n",
      "All model files were zipped to c:\\Users\\sapotl\\OneDrive - SAS\\Desktop\\sasctlofficial\\python-sasctl\\examples\\data\\hmeqModels\\RandomForest.\n"
     ]
    },
    {
     "name": "stderr",
     "output_type": "stream",
     "text": [
      "c:\\Users\\sapotl\\AppData\\Local\\anaconda3\\Lib\\site-packages\\sasctl\\pzmm\\write_score_code.py:1500: UserWarning: Due to the ambiguity of the provided metrics and prediction return types, the score code assumes that a classification and the target event probability should be returned.\n",
      "  warn(\n"
     ]
    },
    {
     "name": "stdout",
     "output_type": "stream",
     "text": [
      "Model was successfully imported into SAS Model Manager as RandomForest with the following UUID: 7bf4273f-d54b-4201-8107-f3503e12a43f.\n",
      "Model score code was written successfully to c:\\Users\\sapotl\\OneDrive - SAS\\Desktop\\sasctlofficial\\python-sasctl\\examples\\data\\hmeqModels\\GradientBoosting\\score_GradientBoosting.py and uploaded to SAS Model Manager.\n",
      "All model files were zipped to c:\\Users\\sapotl\\OneDrive - SAS\\Desktop\\sasctlofficial\\python-sasctl\\examples\\data\\hmeqModels\\GradientBoosting.\n"
     ]
    },
    {
     "name": "stderr",
     "output_type": "stream",
     "text": [
      "c:\\Users\\sapotl\\AppData\\Local\\anaconda3\\Lib\\site-packages\\sasctl\\pzmm\\write_score_code.py:1500: UserWarning: Due to the ambiguity of the provided metrics and prediction return types, the score code assumes that a classification and the target event probability should be returned.\n",
      "  warn(\n"
     ]
    },
    {
     "name": "stdout",
     "output_type": "stream",
     "text": [
      "Model was successfully imported into SAS Model Manager as GradientBoosting with the following UUID: db434720-48ea-4fc2-95d2-b20e472f78e7.\n"
     ]
    }
   ],
   "source": [
    "for (prefix, path) in zip(model_prefix, zip_folder):\n",
    "    pzmm.ImportModel.import_model(\n",
    "        model_files=path, # Where are the model files?\n",
    "        model_prefix=prefix, # What is the model name?\n",
    "        project=\"HMEQModels\", # What is the project name?\n",
    "        input_data=x, # What does example input data look like?\n",
    "        predict_method=[dtc.predict_proba, [int, int]], # What is the predict method and what does it return?\n",
    "        score_metrics=score_metrics, # What are the output variables?\n",
    "        overwrite_model=True, # Overwrite the model if it already exists?\n",
    "        target_values=[\"0\", \"1\"], # What are the expected values of the target variable?\n",
    "        target_index=1, # What is the index of the target value in target_values?\n",
    "        model_file_name=prefix + \".pickle\", # How was the model file serialized?\n",
    "        missing_values=True # Does the data include missing values?\n",
    "    )\n",
    "    # Reinitialize the score_code variable when writing more than one model's score code\n",
    "    pzmm.ScoreCode.score_code = \"\""
   ]
  },
  {
   "cell_type": "code",
   "execution_count": null,
   "metadata": {},
   "outputs": [],
   "source": [
    "print(pzmm.ImportModel.get_model_properties(\"id\"))"
   ]
  }
 ],
 "metadata": {
  "kernelspec": {
   "display_name": "base",
   "language": "python",
   "name": "python3"
  },
  "language_info": {
   "codemirror_mode": {
    "name": "ipython",
    "version": 3
   },
   "file_extension": ".py",
   "mimetype": "text/x-python",
   "name": "python",
   "nbconvert_exporter": "python",
   "pygments_lexer": "ipython3",
   "version": "3.11.7"
  },
  "latex_envs": {
   "LaTeX_envs_menu_present": true,
   "autoclose": true,
   "autocomplete": true,
   "bibliofile": "biblio.bib",
   "cite_by": "apalike",
   "current_citInitial": 1,
   "eqLabelWithNumbers": true,
   "eqNumInitial": 1,
   "hotkeys": {
    "equation": "Ctrl-E",
    "itemize": "Ctrl-I"
   },
   "labels_anchors": false,
   "latex_user_defs": false,
   "report_style_numbering": false,
   "user_envs_cfg": false
  },
  "varInspector": {
   "cols": {
    "lenName": 16,
    "lenType": 16,
    "lenVar": 40
   },
   "kernels_config": {
    "python": {
     "delete_cmd_postfix": "",
     "delete_cmd_prefix": "del ",
     "library": "var_list.py",
     "varRefreshCmd": "print(var_dic_list())"
    },
    "r": {
     "delete_cmd_postfix": ") ",
     "delete_cmd_prefix": "rm(",
     "library": "var_list.r",
     "varRefreshCmd": "cat(var_dic_list()) "
    }
   },
   "types_to_exclude": [
    "module",
    "function",
    "builtin_function_or_method",
    "instance",
    "_Feature"
   ],
   "window_display": false
  }
 },
 "nbformat": 4,
 "nbformat_minor": 4
}
